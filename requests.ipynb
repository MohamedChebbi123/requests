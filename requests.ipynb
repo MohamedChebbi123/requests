{
  "nbformat": 4,
  "nbformat_minor": 0,
  "metadata": {
    "colab": {
      "provenance": [],
      "authorship_tag": "ABX9TyNQW2w4703rruwHDyYhm3I4",
      "include_colab_link": true
    },
    "kernelspec": {
      "name": "python3",
      "display_name": "Python 3"
    },
    "language_info": {
      "name": "python"
    }
  },
  "cells": [
    {
      "cell_type": "markdown",
      "metadata": {
        "id": "view-in-github",
        "colab_type": "text"
      },
      "source": [
        "<a href=\"https://colab.research.google.com/github/MohamedChebbi123/requests/blob/main/requests.ipynb\" target=\"_parent\"><img src=\"https://colab.research.google.com/assets/colab-badge.svg\" alt=\"Open In Colab\"/></a>"
      ]
    },
    {
      "cell_type": "markdown",
      "source": [
        "installer requests"
      ],
      "metadata": {
        "id": "fuhXDBKw5GcK"
      }
    },
    {
      "cell_type": "code",
      "execution_count": 16,
      "metadata": {
        "colab": {
          "base_uri": "https://localhost:8080/"
        },
        "id": "CunqBOYY4_ic",
        "outputId": "a6bbd96d-5010-4b2a-874c-a3f8ab5f4d63"
      },
      "outputs": [
        {
          "output_type": "stream",
          "name": "stdout",
          "text": [
            "Requirement already satisfied: requests in /usr/local/lib/python3.11/dist-packages (2.32.3)\n",
            "Requirement already satisfied: charset-normalizer<4,>=2 in /usr/local/lib/python3.11/dist-packages (from requests) (3.4.1)\n",
            "Requirement already satisfied: idna<4,>=2.5 in /usr/local/lib/python3.11/dist-packages (from requests) (3.10)\n",
            "Requirement already satisfied: urllib3<3,>=1.21.1 in /usr/local/lib/python3.11/dist-packages (from requests) (2.3.0)\n",
            "Requirement already satisfied: certifi>=2017.4.17 in /usr/local/lib/python3.11/dist-packages (from requests) (2025.1.31)\n",
            "Requirement already satisfied: beautifulsoup4 in /usr/local/lib/python3.11/dist-packages (4.13.4)\n",
            "Requirement already satisfied: soupsieve>1.2 in /usr/local/lib/python3.11/dist-packages (from beautifulsoup4) (2.7)\n",
            "Requirement already satisfied: typing-extensions>=4.0.0 in /usr/local/lib/python3.11/dist-packages (from beautifulsoup4) (4.13.2)\n"
          ]
        }
      ],
      "source": [
        "!pip install requests\n",
        "!pip install beautifulsoup4\n",
        "\n"
      ]
    },
    {
      "cell_type": "markdown",
      "source": [
        "requete get"
      ],
      "metadata": {
        "id": "6p-icDqD5Rm4"
      }
    },
    {
      "cell_type": "code",
      "source": [
        "import requests\n",
        "\n",
        "url = \"https://www.example.com\"\n",
        "response = requests.get(url)\n",
        "print(response)"
      ],
      "metadata": {
        "colab": {
          "base_uri": "https://localhost:8080/"
        },
        "id": "ruDyF3p85U_9",
        "outputId": "5b2fa2d8-5765-462b-d484-3986464c327a"
      },
      "execution_count": 3,
      "outputs": [
        {
          "output_type": "stream",
          "name": "stdout",
          "text": [
            "<Response [200]>\n"
          ]
        }
      ]
    },
    {
      "cell_type": "markdown",
      "source": [
        "pour avoir tous les codes"
      ],
      "metadata": {
        "id": "APbjeEtZ5c0t"
      }
    },
    {
      "cell_type": "code",
      "source": [
        "print(response.status_code)"
      ],
      "metadata": {
        "colab": {
          "base_uri": "https://localhost:8080/"
        },
        "id": "NCjmNPt46b0g",
        "outputId": "cb401de0-3cb3-4738-8330-92cf857e7310"
      },
      "execution_count": 4,
      "outputs": [
        {
          "output_type": "stream",
          "name": "stdout",
          "text": [
            "200\n"
          ]
        }
      ]
    },
    {
      "cell_type": "markdown",
      "source": [
        "pour voir contenu de requete"
      ],
      "metadata": {
        "id": "iomV6wvJ6dUp"
      }
    },
    {
      "cell_type": "code",
      "source": [
        "import requests\n",
        "\n",
        "response1 = requests.get(\"https://www.example.com\")\n",
        "print(response1.content)"
      ],
      "metadata": {
        "colab": {
          "base_uri": "https://localhost:8080/"
        },
        "id": "TZkAIg9x6lAn",
        "outputId": "3f99dd1a-fb4e-41e4-d513-75320c09c7ca"
      },
      "execution_count": 7,
      "outputs": [
        {
          "output_type": "stream",
          "name": "stdout",
          "text": [
            "b'<!doctype html>\\n<html>\\n<head>\\n    <title>Example Domain</title>\\n\\n    <meta charset=\"utf-8\" />\\n    <meta http-equiv=\"Content-type\" content=\"text/html; charset=utf-8\" />\\n    <meta name=\"viewport\" content=\"width=device-width, initial-scale=1\" />\\n    <style type=\"text/css\">\\n    body {\\n        background-color: #f0f0f2;\\n        margin: 0;\\n        padding: 0;\\n        font-family: -apple-system, system-ui, BlinkMacSystemFont, \"Segoe UI\", \"Open Sans\", \"Helvetica Neue\", Helvetica, Arial, sans-serif;\\n        \\n    }\\n    div {\\n        width: 600px;\\n        margin: 5em auto;\\n        padding: 2em;\\n        background-color: #fdfdff;\\n        border-radius: 0.5em;\\n        box-shadow: 2px 3px 7px 2px rgba(0,0,0,0.02);\\n    }\\n    a:link, a:visited {\\n        color: #38488f;\\n        text-decoration: none;\\n    }\\n    @media (max-width: 700px) {\\n        div {\\n            margin: 0 auto;\\n            width: auto;\\n        }\\n    }\\n    </style>    \\n</head>\\n\\n<body>\\n<div>\\n    <h1>Example Domain</h1>\\n    <p>This domain is for use in illustrative examples in documents. You may use this\\n    domain in literature without prior coordination or asking for permission.</p>\\n    <p><a href=\"https://www.iana.org/domains/example\">More information...</a></p>\\n</div>\\n</body>\\n</html>\\n'\n"
          ]
        }
      ]
    },
    {
      "cell_type": "markdown",
      "source": [
        "requete post"
      ],
      "metadata": {
        "id": "DMN1PY-b6wha"
      }
    },
    {
      "cell_type": "code",
      "source": [
        "data = {\"name\": \"Salah\", \"message\": \"Hello!\"}\n",
        "url = \"https://httpbin.org/post\"\n",
        "\n",
        "response = requests.post(url, json=data)\n",
        "response_data = response.json()\n",
        "print(response_data)"
      ],
      "metadata": {
        "colab": {
          "base_uri": "https://localhost:8080/"
        },
        "id": "WdQUYhSz60kG",
        "outputId": "62b880d1-48ea-4442-eb85-a9c377b42a59"
      },
      "execution_count": 11,
      "outputs": [
        {
          "output_type": "stream",
          "name": "stdout",
          "text": [
            "{'args': {}, 'data': '{\"name\": \"Salah\", \"message\": \"Hello!\"}', 'files': {}, 'form': {}, 'headers': {'Accept': '*/*', 'Accept-Encoding': 'gzip, deflate, zstd', 'Content-Length': '38', 'Content-Type': 'application/json', 'Host': 'httpbin.org', 'User-Agent': 'python-requests/2.32.3', 'X-Amzn-Trace-Id': 'Root=1-680a7a1d-77de0f604c5ac2f543687a44'}, 'json': {'message': 'Hello!', 'name': 'Salah'}, 'origin': '34.81.43.58', 'url': 'https://httpbin.org/post'}\n"
          ]
        }
      ]
    },
    {
      "cell_type": "markdown",
      "source": [
        "des erreurs"
      ],
      "metadata": {
        "id": "zKWNce0z7eYN"
      }
    },
    {
      "cell_type": "code",
      "source": [
        "import requests\n",
        "\n",
        "response = requests.get(\"https://httpbin.org/status/404\")\n",
        "if response.status_code != 200:\n",
        "    print(f\"HTTP Error: {response.status_code}\")"
      ],
      "metadata": {
        "colab": {
          "base_uri": "https://localhost:8080/"
        },
        "id": "g1m1mkKl7fin",
        "outputId": "2ff81981-d125-4a92-e75f-3fdcff92e3e9"
      },
      "execution_count": 12,
      "outputs": [
        {
          "output_type": "stream",
          "name": "stdout",
          "text": [
            "HTTP Error: 404\n"
          ]
        }
      ]
    },
    {
      "cell_type": "markdown",
      "source": [
        "timeout"
      ],
      "metadata": {
        "id": "ElVN947c7h9R"
      }
    },
    {
      "cell_type": "code",
      "source": [
        "import requests\n",
        "\n",
        "url = \"https://httpbin.org/delay/10\"\n",
        "\n",
        "try:\n",
        "    response = requests.get(url, timeout=5)\n",
        "except requests.exceptions.Timeout as err:\n",
        "    print(err)"
      ],
      "metadata": {
        "colab": {
          "base_uri": "https://localhost:8080/"
        },
        "id": "IBnitn_c7opX",
        "outputId": "3726b245-05cd-4513-890e-5c6bc5a2408a"
      },
      "execution_count": 13,
      "outputs": [
        {
          "output_type": "stream",
          "name": "stdout",
          "text": [
            "HTTPSConnectionPool(host='httpbin.org', port=443): Read timed out. (read timeout=5)\n"
          ]
        }
      ]
    },
    {
      "cell_type": "markdown",
      "source": [
        "HTTP Request Headers"
      ],
      "metadata": {
        "id": "AhHxu6Qw7tSB"
      }
    },
    {
      "cell_type": "code",
      "source": [
        "auth_token = \"XXXXXXXX\"\n",
        "\n",
        "headers = {\n",
        "    \"Authorization\": f\"Bearer {auth_token}\"\n",
        "}\n",
        "\n",
        "url = \"https://httpbin.org/headers\"\n",
        "response = requests.get(url, headers=headers)\n",
        "print(response.json())"
      ],
      "metadata": {
        "colab": {
          "base_uri": "https://localhost:8080/"
        },
        "id": "26ZjMGN_7yMU",
        "outputId": "524701aa-a30a-4331-bd69-ebaa9a050af5"
      },
      "execution_count": 14,
      "outputs": [
        {
          "output_type": "stream",
          "name": "stdout",
          "text": [
            "{'headers': {'Accept': '*/*', 'Accept-Encoding': 'gzip, deflate, zstd', 'Authorization': 'Bearer XXXXXXXX', 'Host': 'httpbin.org', 'User-Agent': 'python-requests/2.32.3', 'X-Amzn-Trace-Id': 'Root=1-680a7ab8-3ab8d412075ddcbc6163f175'}}\n"
          ]
        }
      ]
    },
    {
      "cell_type": "markdown",
      "source": [
        "web scraping"
      ],
      "metadata": {
        "id": "8gbE_2ht73pu"
      }
    },
    {
      "cell_type": "code",
      "source": [
        "import requests\n",
        "from bs4 import BeautifulSoup\n",
        "\n",
        "url = \"https://www.python.org/\"\n",
        "response = requests.get(url)\n",
        "soup = BeautifulSoup(response.content, \"html.parser\")\n",
        "title = soup.title.text\n",
        "content = soup.find(\"p\").text\n",
        "links = [a[\"href\"] for a in soup.find_all(\"a\")]\n",
        "\n",
        "print(title, content, links)"
      ],
      "metadata": {
        "colab": {
          "base_uri": "https://localhost:8080/"
        },
        "id": "JxdHRUkn8Dpx",
        "outputId": "873c12f7-28dd-4d97-ddd3-b927bcf2132b"
      },
      "execution_count": 19,
      "outputs": [
        {
          "output_type": "stream",
          "name": "stdout",
          "text": [
            "Welcome to Python.org Notice: While JavaScript is not essential for this website, your interaction with the content will be limited. Please turn JavaScript on for the full experience.  ['#content', '#python-network', '/', 'https://www.python.org/psf/', 'https://docs.python.org', 'https://pypi.org/', '/jobs/', '/community/', '#top', '/', 'https://psfmember.org/civicrm/contribute/transact?reset=1&id=2', '#site-map', '#', 'javascript:;', 'javascript:;', 'javascript:;', '#', 'https://www.linkedin.com/company/python-software-foundation/', 'https://fosstodon.org/@ThePSF', '/community/irc/', 'https://twitter.com/ThePSF', '/about/', '/about/apps/', '/about/quotes/', '/about/gettingstarted/', '/about/help/', 'http://brochure.getpython.info/', '/downloads/', '/downloads/', '/downloads/source/', '/downloads/windows/', '/downloads/macos/', '/download/other/', 'https://docs.python.org/3/license.html', '/download/alternatives', '/doc/', '/doc/', '/doc/av', 'https://wiki.python.org/moin/BeginnersGuide', 'https://devguide.python.org/', 'https://docs.python.org/faq/', 'http://wiki.python.org/moin/Languages', 'https://peps.python.org', 'https://wiki.python.org/moin/PythonBooks', '/doc/essays/', '/community/', '/community/diversity/', '/community/lists/', '/community/irc/', '/community/forums/', '/psf/annual-report/2021/', '/community/workshops/', '/community/sigs/', '/community/logos/', 'https://wiki.python.org/moin/', '/psf/conduct/', '/community/awards', '/psf/get-involved/', '/psf/community-stories/', '/success-stories/', '/success-stories/category/arts/', '/success-stories/category/business/', '/success-stories/category/education/', '/success-stories/category/engineering/', '/success-stories/category/government/', '/success-stories/category/scientific/', '/success-stories/category/software-development/', '/blogs/', '/blogs/', '/psf/newsletter/', 'http://pyfound.blogspot.com/', 'http://pycon.blogspot.com/', 'http://planetpython.org/', '/events/', '/events/python-events/', '/events/python-user-group/', '/events/python-events/past/', '/events/python-user-group/past/', 'https://wiki.python.org/moin/PythonEventsCalendar#Submitting_an_Event', '/shell/', '//docs.python.org/3/tutorial/controlflow.html#defining-functions', '//docs.python.org/3/tutorial/introduction.html#lists', 'http://docs.python.org/3/tutorial/introduction.html#using-python-as-a-calculator', '//docs.python.org/3/tutorial/controlflow.html', '//docs.python.org/3/tutorial/', '/doc/', 'https://us.pycon.org/2025/about/pycon/', '/about/gettingstarted/', '/downloads/release/python-3133/', 'https://docs.python.org', '//jobs.python.org', 'https://blog.python.org', 'https://pyfound.blogspot.com/2025/04/psf-grants-program-2024-transparency.html', 'https://pythoninsider.blogspot.com/2025/04/python-3140a7-3133-31210-31112-31017.html', 'https://mailchi.mp/python/python-software-foundation-july-2024-newsletter-19878179', 'https://pythoninsider.blogspot.com/2025/03/python-3140-alpha-6-is-out.html', 'https://pyfound.blogspot.com/2025/03/dsa-thomas-wouters.html', '/events/calendars/', '/events/python-user-group/1828/', '/events/python-user-group/1827/', '/events/python-user-group/1996/', '/events/python-user-group/1891/', '/events/python-user-group/1992/', '/success-stories/', '/success-stories/zama-concrete-ml-simplifying-homomorphic-encryption-for-python-machine-learning/', '/success-stories/zama-concrete-ml-simplifying-homomorphic-encryption-for-python-machine-learning/', '/about/apps', 'http://www.djangoproject.com/', 'http://www.pylonsproject.org/', 'http://bottlepy.org', 'http://tornadoweb.org', 'http://flask.pocoo.org/', 'http://www.web2py.com/', 'http://wiki.python.org/moin/TkInter', 'https://wiki.gnome.org/Projects/PyGObject', 'http://www.riverbankcomputing.co.uk/software/pyqt/intro', 'https://wiki.qt.io/PySide', 'https://kivy.org/', 'http://www.wxpython.org/', 'https://dearpygui.readthedocs.io/en/latest/', 'http://www.scipy.org', 'http://pandas.pydata.org/', 'http://ipython.org', 'http://buildbot.net/', 'http://trac.edgewall.org/', 'http://roundup.sourceforge.net/', 'http://www.ansible.com', 'https://saltproject.io', 'https://www.openstack.org', 'https://xon.sh', '/psf/', '/psf/', '/psf/membership/', '/psf/donations/', '#python-network', '/about/', '/about/apps/', '/about/quotes/', '/about/gettingstarted/', '/about/help/', 'http://brochure.getpython.info/', '/downloads/', '/downloads/', '/downloads/source/', '/downloads/windows/', '/downloads/macos/', '/download/other/', 'https://docs.python.org/3/license.html', '/download/alternatives', '/doc/', '/doc/', '/doc/av', 'https://wiki.python.org/moin/BeginnersGuide', 'https://devguide.python.org/', 'https://docs.python.org/faq/', 'http://wiki.python.org/moin/Languages', 'https://peps.python.org', 'https://wiki.python.org/moin/PythonBooks', '/doc/essays/', '/community/', '/community/diversity/', '/community/lists/', '/community/irc/', '/community/forums/', '/psf/annual-report/2021/', '/community/workshops/', '/community/sigs/', '/community/logos/', 'https://wiki.python.org/moin/', '/psf/conduct/', '/community/awards', '/psf/get-involved/', '/psf/community-stories/', '/success-stories/', '/success-stories/category/arts/', '/success-stories/category/business/', '/success-stories/category/education/', '/success-stories/category/engineering/', '/success-stories/category/government/', '/success-stories/category/scientific/', '/success-stories/category/software-development/', '/blogs/', '/blogs/', '/psf/newsletter/', 'http://pyfound.blogspot.com/', 'http://pycon.blogspot.com/', 'http://planetpython.org/', '/events/', '/events/python-events/', '/events/python-user-group/', '/events/python-events/past/', '/events/python-user-group/past/', 'https://wiki.python.org/moin/PythonEventsCalendar#Submitting_an_Event', '/dev/', 'https://devguide.python.org/', 'https://github.com/python/cpython/issues', 'https://mail.python.org/mailman/listinfo/python-dev', '/dev/core-mentorship/', '/dev/security/', '#python-network', '/about/help/', '/community/diversity/', 'https://github.com/python/pythondotorg/issues', 'https://status.python.org/', '/psf-landing/', '/about/legal/', 'https://policies.python.org/python.org/Privacy-Notice/']\n"
          ]
        }
      ]
    },
    {
      "cell_type": "code",
      "source": [
        "import urllib.request\n",
        "import urllib.parse\n",
        "\n",
        "data = urllib.parse.urlencode({\"key\": \"value\"}).encode(\"utf-8\")\n",
        "\n",
        "req = urllib.request.Request(\"https://httpbin.org/post\", data=data, method=\"POST\")\n",
        "\n",
        "with urllib.request.urlopen(req) as response:\n",
        "    html = response.read().decode(\"utf-8\")\n",
        "\n",
        "print(html)\n"
      ],
      "metadata": {
        "colab": {
          "base_uri": "https://localhost:8080/"
        },
        "id": "HuUeP1328822",
        "outputId": "826d9189-66e3-4ab7-f69b-bbacd28dcb33"
      },
      "execution_count": 23,
      "outputs": [
        {
          "output_type": "stream",
          "name": "stdout",
          "text": [
            "{\n",
            "  \"args\": {}, \n",
            "  \"data\": \"\", \n",
            "  \"files\": {}, \n",
            "  \"form\": {\n",
            "    \"key\": \"value\"\n",
            "  }, \n",
            "  \"headers\": {\n",
            "    \"Accept-Encoding\": \"identity\", \n",
            "    \"Content-Length\": \"9\", \n",
            "    \"Content-Type\": \"application/x-www-form-urlencoded\", \n",
            "    \"Host\": \"httpbin.org\", \n",
            "    \"User-Agent\": \"Python-urllib/3.11\", \n",
            "    \"X-Amzn-Trace-Id\": \"Root=1-680a7c3d-4bd632051137ff8d2c32bbb8\"\n",
            "  }, \n",
            "  \"json\": null, \n",
            "  \"origin\": \"34.81.43.58\", \n",
            "  \"url\": \"https://httpbin.org/post\"\n",
            "}\n",
            "\n"
          ]
        }
      ]
    },
    {
      "cell_type": "markdown",
      "source": [
        "urllib\n"
      ],
      "metadata": {
        "id": "zzhGFfFd870T"
      }
    }
  ]
}